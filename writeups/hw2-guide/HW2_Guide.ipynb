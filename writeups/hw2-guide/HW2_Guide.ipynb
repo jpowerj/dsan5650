{
 "cells": [
  {
   "cell_type": "raw",
   "id": "9d7d5b93-1dc7-4334-add3-ea5428859328",
   "metadata": {
    "editable": true,
    "slideshow": {
     "slide_type": ""
    },
    "tags": [],
    "vscode": {
     "languageId": "raw"
    }
   },
   "source": [
    "---\n",
    "sidebar: mainnav\n",
    "categories:\n",
    "  - Extra Writeups\n",
    "---"
   ]
  },
  {
   "cell_type": "markdown",
   "id": "a4a715aa-6c86-4067-97f7-a89f81a920a1",
   "metadata": {},
   "source": [
    "## DSAN 5650 HW2 Guide"
   ]
  },
  {
   "cell_type": "code",
   "execution_count": 1,
   "id": "affc2f5f-9551-4696-b501-b4c40c493f9d",
   "metadata": {
    "execution": {
     "iopub.execute_input": "2025-07-01T14:33:28.848672Z",
     "iopub.status.busy": "2025-07-01T14:33:28.848507Z",
     "iopub.status.idle": "2025-07-01T14:33:28.989006Z",
     "shell.execute_reply": "2025-07-01T14:33:28.988610Z",
     "shell.execute_reply.started": "2025-07-01T14:33:28.848656Z"
    }
   },
   "outputs": [
    {
     "data": {
      "text/html": [
       "<style>\n",
       "@import url('https://fonts.googleapis.com/css2?family=Roboto:ital,wght@0,100..900;1,100..900&display=swap');\n",
       ".jp-RenderedHTMLCommon {\n",
       "    font-family: \"Roboto\", sans-serif;\n",
       "}\n",
       "</style>\n"
      ],
      "text/plain": [
       "<IPython.core.display.HTML object>"
      ]
     },
     "metadata": {},
     "output_type": "display_data"
    }
   ],
   "source": [
    "%run jupyter_fixes.ipynb"
   ]
  },
  {
   "cell_type": "code",
   "execution_count": 20,
   "id": "22e3f6f9-7776-4a6b-8c60-d91fe43285dc",
   "metadata": {
    "execution": {
     "iopub.execute_input": "2025-07-01T15:22:08.520012Z",
     "iopub.status.busy": "2025-07-01T15:22:08.519257Z",
     "iopub.status.idle": "2025-07-01T15:22:08.721975Z",
     "shell.execute_reply": "2025-07-01T15:22:08.721480Z",
     "shell.execute_reply.started": "2025-07-01T15:22:08.519991Z"
    }
   },
   "outputs": [
    {
     "data": {
      "text/plain": [
       "<Figure size 100x100 with 0 Axes>"
      ]
     },
     "metadata": {},
     "output_type": "display_data"
    }
   ],
   "source": [
    "import pandas as pd\n",
    "import numpy as np\n",
    "import matplotlib.pyplot as plt\n",
    "import patchworklib as pw\n",
    "import seaborn as sns\n",
    "\n",
    "import pymc as pm\n",
    "import arviz as az"
   ]
  },
  {
   "cell_type": "markdown",
   "id": "26b55abe-a5b5-497a-9795-53dd7f3c4fbd",
   "metadata": {},
   "source": [
    "## [Part 4] A Non-Regression Example"
   ]
  },
  {
   "cell_type": "markdown",
   "id": "5bd15483-99bb-43f6-9051-7aeb65186804",
   "metadata": {},
   "source": [
    "### Why All the Different Models With Different Priors in the Beginning?"
   ]
  },
  {
   "cell_type": "markdown",
   "id": "e49da1d3-839a-4498-b030-8f139727a8d4",
   "metadata": {},
   "source": [
    "This part was intended to basically combine two key Bayesian Workflow \"lessons\" into one problem, but was maybe over-complicated because of this 😨. The two lessons are:\n",
    "\n",
    "1.  The fact that the regressions you implemented in HW2A and HW2B are **far from the only models** that you can implement using PyMC, and then\n",
    "2.  How you can **customize** your model, using **prior predictive checks**, to develop a parameterization that better captures the **range of possible data**, **before** the second step of then going and **estimating the specific values** of these parameters.\n",
    "\n",
    "The importance of these prior predictive checks, that Part 4 is trying to drive home, is also captured in the following excerpts from [Gabry et al. (2019)](https://academic.oup.com/jrsssa/article/182/2/389/7070184):\n",
    "\n",
    "> *If we specify proper priors for all parameters in the model, a Bayesian model yields a joint prior distribution on parameters and data, and hence a **prior marginal distribution** [a **prior predictive distribution**] for the data, i.e. Bayesian models with proper priors are generative models.*\n",
    "\n",
    "which means that\n",
    "\n",
    "> we can visualize **simulations from the prior marginal distribution** of the data to assess the consistency of the chosen priors with **domain knowledge**.\n",
    "\n",
    "The implication here is that prior predictive model modeling is in fact **crucial to the scientific method!** However, rather than subjecting you to a full-on deep-dive into how different priors can represent different \"states\" of knowledge about scientific hypotheses, for now you can just focus on the goal of developing **weakly informative** priors, defined as follows (in the same paper):\n",
    "\n",
    "> A prior leads to a **weakly informative** joint prior data-generating process if draws from the prior data-generating distribution $p(y)$ [the **prior predictive distribution**] could represent **any data set that could plausibly be observed**."
   ]
  },
  {
   "cell_type": "markdown",
   "id": "e1960203-f712-4d78-a206-bf61ed063899",
   "metadata": {},
   "source": [
    "### A Simpler Prior-Focused Workflow"
   ]
  },
  {
   "cell_type": "markdown",
   "id": "792ffd20-4678-4dc6-91e1-8b6435a1c790",
   "metadata": {},
   "source": [
    "It may have been a bad idea to jump directly to **count** data here, since that's usually the third kind of model that you learn in e.g. a Statistical Learning course (like DSAN 5300)... So, here let's step back to the *second* kind of model that you usually learn: **logistic regression** for **binary** outcome data (the first kind of model you usually learn is basic linear regression for **continuous** outcome data, which is covered in HW2A and HW2B).\n",
    "\n",
    "The goal of **weakly informative** priors would be, as mentioned above, to cover different **plausible datasets** that could be observed out in the world for the phenomenon you're trying to model.\n",
    "\n",
    "So, here as a simple case let's try to develop a weakly informative prior for **NBA team outcomes**:\n",
    "\n",
    "* The worst team in NBA history, by win percentage, was the 2011-2012 Charlotte Bobcats<sup>[1]</sup>, who won **7 games** out of a total of 66 that season (there are usually 82, but there was a labor dispute that year which cut the season short), for a win probability of **0.106**. Extrapolating to a standard 82-game season, this means they were on pace to win **9 games** (rounded to the nearest integer)\n",
    "* The best team in NBA history, by win percentage, was the 2015-2016 Golden State Warriors, who won **73 games** out of a total of 82, for a win probability of **0.890**\n",
    "* The Orlando Magic, this past season (2024-2025), achieved the most-average possible record, winning **41 games** out of a total of 82, for a win probability of exactly **0.500**.\n",
    "\n",
    "So, if we were trying to model the different win probabilities for a given team across a given season, a **weakly informative** prior should at least be able to capture this range of possibilities, from 9 to 73 games<sup>[2]</sup>.\n",
    "\n",
    "---\n",
    "\n",
    "<small>\n",
    "\n",
    "1.  For those who don't know this, Jeff for some reason really likes sports and is able to remember a bunch of random statistics from a bunch of random players/teams across different US professional sports. So... these are from memory, sorry if they're wrong.\n",
    "2.  Don't worry -- as we'll see below, part of the whole modeling process is constructing a model that can satisfy **different people's opinions about what is \"plausible\"**. So, we'll get to the fact that it's possible for teams to be **worse** than the 2011-2012 Bobcats or **better** than the 2015-2016 Warriors!\n",
    "\n",
    "</small>"
   ]
  },
  {
   "cell_type": "code",
   "execution_count": 77,
   "id": "fd974a80-4706-499c-b396-6f36dba03e4b",
   "metadata": {
    "execution": {
     "iopub.execute_input": "2025-07-01T17:00:46.513329Z",
     "iopub.status.busy": "2025-07-01T17:00:46.513097Z",
     "iopub.status.idle": "2025-07-01T17:00:46.558648Z",
     "shell.execute_reply": "2025-07-01T17:00:46.558122Z",
     "shell.execute_reply.started": "2025-07-01T17:00:46.513313Z"
    }
   },
   "outputs": [
    {
     "data": {
      "image/svg+xml": [
       "<?xml version=\"1.0\" encoding=\"UTF-8\" standalone=\"no\"?>\n",
       "<!DOCTYPE svg PUBLIC \"-//W3C//DTD SVG 1.1//EN\"\n",
       " \"http://www.w3.org/Graphics/SVG/1.1/DTD/svg11.dtd\">\n",
       "<!-- Generated by graphviz version 2.43.0 (0)\n",
       " -->\n",
       "<!-- Title: %3 Pages: 1 -->\n",
       "<svg width=\"156pt\" height=\"286pt\"\n",
       " viewBox=\"0.00 0.00 156.00 285.91\" xmlns=\"http://www.w3.org/2000/svg\" xmlns:xlink=\"http://www.w3.org/1999/xlink\">\n",
       "<g id=\"graph0\" class=\"graph\" transform=\"scale(1 1) rotate(0) translate(4 281.91)\">\n",
       "<title>%3</title>\n",
       "<polygon fill=\"white\" stroke=\"transparent\" points=\"-4,4 -4,-281.91 152,-281.91 152,4 -4,4\"/>\n",
       "<g id=\"clust1\" class=\"cluster\">\n",
       "<title>clustergame_num (82)</title>\n",
       "<path fill=\"none\" stroke=\"black\" d=\"M20,-61C20,-61 128,-61 128,-61 134,-61 140,-67 140,-73 140,-73 140,-162.95 140,-162.95 140,-168.95 134,-174.95 128,-174.95 128,-174.95 20,-174.95 20,-174.95 14,-174.95 8,-168.95 8,-162.95 8,-162.95 8,-73 8,-73 8,-67 14,-61 20,-61\"/>\n",
       "<text text-anchor=\"middle\" x=\"76.5\" y=\"-68.8\" font-family=\"Times,serif\" font-size=\"14.00\">game_num (82)</text>\n",
       "</g>\n",
       "<!-- num_wins -->\n",
       "<g id=\"node1\" class=\"node\">\n",
       "<title>num_wins</title>\n",
       "<polygon fill=\"none\" stroke=\"black\" points=\"131,-53 17,-53 17,0 131,0 131,-53\"/>\n",
       "<text text-anchor=\"middle\" x=\"74\" y=\"-37.8\" font-family=\"Times,serif\" font-size=\"14.00\">num_wins</text>\n",
       "<text text-anchor=\"middle\" x=\"74\" y=\"-22.8\" font-family=\"Times,serif\" font-size=\"14.00\">~</text>\n",
       "<text text-anchor=\"middle\" x=\"74\" y=\"-7.8\" font-family=\"Times,serif\" font-size=\"14.00\">Deterministic</text>\n",
       "</g>\n",
       "<!-- p_win -->\n",
       "<g id=\"node2\" class=\"node\">\n",
       "<title>p_win</title>\n",
       "<ellipse fill=\"none\" stroke=\"black\" cx=\"74\" cy=\"-240.43\" rx=\"53.98\" ry=\"37.45\"/>\n",
       "<text text-anchor=\"middle\" x=\"74\" y=\"-251.73\" font-family=\"Times,serif\" font-size=\"14.00\">p_win</text>\n",
       "<text text-anchor=\"middle\" x=\"74\" y=\"-236.73\" font-family=\"Times,serif\" font-size=\"14.00\">~</text>\n",
       "<text text-anchor=\"middle\" x=\"74\" y=\"-221.73\" font-family=\"Times,serif\" font-size=\"14.00\">Uniform</text>\n",
       "</g>\n",
       "<!-- win -->\n",
       "<g id=\"node3\" class=\"node\">\n",
       "<title>win</title>\n",
       "<ellipse fill=\"none\" stroke=\"black\" cx=\"74\" cy=\"-129.48\" rx=\"57.97\" ry=\"37.45\"/>\n",
       "<text text-anchor=\"middle\" x=\"74\" y=\"-140.78\" font-family=\"Times,serif\" font-size=\"14.00\">win</text>\n",
       "<text text-anchor=\"middle\" x=\"74\" y=\"-125.78\" font-family=\"Times,serif\" font-size=\"14.00\">~</text>\n",
       "<text text-anchor=\"middle\" x=\"74\" y=\"-110.78\" font-family=\"Times,serif\" font-size=\"14.00\">Bernoulli</text>\n",
       "</g>\n",
       "<!-- p_win&#45;&gt;win -->\n",
       "<g id=\"edge1\" class=\"edge\">\n",
       "<title>p_win&#45;&gt;win</title>\n",
       "<path fill=\"none\" stroke=\"black\" d=\"M74,-202.85C74,-194.67 74,-185.89 74,-177.37\"/>\n",
       "<polygon fill=\"black\" stroke=\"black\" points=\"77.5,-177.15 74,-167.15 70.5,-177.15 77.5,-177.15\"/>\n",
       "</g>\n",
       "<!-- win&#45;&gt;num_wins -->\n",
       "<g id=\"edge2\" class=\"edge\">\n",
       "<title>win&#45;&gt;num_wins</title>\n",
       "<path fill=\"none\" stroke=\"black\" d=\"M74,-91.74C74,-82.48 74,-72.55 74,-63.34\"/>\n",
       "<polygon fill=\"black\" stroke=\"black\" points=\"77.5,-63.31 74,-53.31 70.5,-63.31 77.5,-63.31\"/>\n",
       "</g>\n",
       "</g>\n",
       "</svg>\n"
      ],
      "text/plain": [
       "<graphviz.graphs.Digraph at 0x7c29d51ae6f0>"
      ]
     },
     "execution_count": 77,
     "metadata": {},
     "output_type": "execute_result"
    }
   ],
   "source": [
    "indices = {'game_num': list(range(1, 82+1))}\n",
    "with pm.Model(coords=indices) as nba_model:\n",
    "    p_win = pm.Uniform(\"p_win\", 0, 1)\n",
    "    win = pm.Bernoulli(\"win\", p=p_win, dims=\"game_num\")\n",
    "    num_wins = pm.Deterministic(\"num_wins\", pm.math.sum(win))\n",
    "pm.model_to_graphviz(nba_model)"
   ]
  },
  {
   "cell_type": "code",
   "execution_count": 78,
   "id": "5ee010a3-33d1-49d8-8dd9-0eccb19840ad",
   "metadata": {
    "execution": {
     "iopub.execute_input": "2025-07-01T17:00:47.100454Z",
     "iopub.status.busy": "2025-07-01T17:00:47.100142Z",
     "iopub.status.idle": "2025-07-01T17:00:47.165162Z",
     "shell.execute_reply": "2025-07-01T17:00:47.164647Z",
     "shell.execute_reply.started": "2025-07-01T17:00:47.100402Z"
    }
   },
   "outputs": [
    {
     "name": "stderr",
     "output_type": "stream",
     "text": [
      "Sampling: [p_win, win]\n"
     ]
    }
   ],
   "source": [
    "with nba_model:\n",
    "    nba_prior_idata = pm.sample_prior_predictive(random_seed=5650)"
   ]
  },
  {
   "cell_type": "code",
   "execution_count": 79,
   "id": "dbe7e5ff-10c3-4311-ab41-b9bf14f398f9",
   "metadata": {
    "execution": {
     "iopub.execute_input": "2025-07-01T17:00:47.256724Z",
     "iopub.status.busy": "2025-07-01T17:00:47.256389Z",
     "iopub.status.idle": "2025-07-01T17:00:47.397383Z",
     "shell.execute_reply": "2025-07-01T17:00:47.396856Z",
     "shell.execute_reply.started": "2025-07-01T17:00:47.256705Z"
    }
   },
   "outputs": [
    {
     "name": "stderr",
     "output_type": "stream",
     "text": [
      "arviz - WARNING - Shape validation failed: input_shape: (1, 500), minimum_shape: (chains=2, draws=4)\n"
     ]
    },
    {
     "data": {
      "text/html": [
       "<div>\n",
       "<style scoped>\n",
       "    .dataframe tbody tr th:only-of-type {\n",
       "        vertical-align: middle;\n",
       "    }\n",
       "\n",
       "    .dataframe tbody tr th {\n",
       "        vertical-align: top;\n",
       "    }\n",
       "\n",
       "    .dataframe thead th {\n",
       "        text-align: right;\n",
       "    }\n",
       "</style>\n",
       "<table border=\"1\" class=\"dataframe\">\n",
       "  <thead>\n",
       "    <tr style=\"text-align: right;\">\n",
       "      <th></th>\n",
       "      <th>mean</th>\n",
       "      <th>sd</th>\n",
       "      <th>hdi_3%</th>\n",
       "      <th>hdi_97%</th>\n",
       "      <th>mcse_mean</th>\n",
       "      <th>mcse_sd</th>\n",
       "      <th>ess_bulk</th>\n",
       "      <th>ess_tail</th>\n",
       "      <th>r_hat</th>\n",
       "    </tr>\n",
       "  </thead>\n",
       "  <tbody>\n",
       "    <tr>\n",
       "      <th>num_wins</th>\n",
       "      <td>42.246</td>\n",
       "      <td>24.658</td>\n",
       "      <td>4.000</td>\n",
       "      <td>81.000</td>\n",
       "      <td>1.105</td>\n",
       "      <td>0.495</td>\n",
       "      <td>470.0</td>\n",
       "      <td>436.0</td>\n",
       "      <td>NaN</td>\n",
       "    </tr>\n",
       "    <tr>\n",
       "      <th>win[1]</th>\n",
       "      <td>0.480</td>\n",
       "      <td>0.500</td>\n",
       "      <td>0.000</td>\n",
       "      <td>1.000</td>\n",
       "      <td>0.022</td>\n",
       "      <td>0.001</td>\n",
       "      <td>507.0</td>\n",
       "      <td>500.0</td>\n",
       "      <td>NaN</td>\n",
       "    </tr>\n",
       "    <tr>\n",
       "      <th>win[2]</th>\n",
       "      <td>0.534</td>\n",
       "      <td>0.499</td>\n",
       "      <td>0.000</td>\n",
       "      <td>1.000</td>\n",
       "      <td>0.022</td>\n",
       "      <td>0.002</td>\n",
       "      <td>503.0</td>\n",
       "      <td>500.0</td>\n",
       "      <td>NaN</td>\n",
       "    </tr>\n",
       "    <tr>\n",
       "      <th>win[3]</th>\n",
       "      <td>0.518</td>\n",
       "      <td>0.500</td>\n",
       "      <td>0.000</td>\n",
       "      <td>1.000</td>\n",
       "      <td>0.021</td>\n",
       "      <td>0.001</td>\n",
       "      <td>545.0</td>\n",
       "      <td>500.0</td>\n",
       "      <td>NaN</td>\n",
       "    </tr>\n",
       "    <tr>\n",
       "      <th>win[4]</th>\n",
       "      <td>0.524</td>\n",
       "      <td>0.500</td>\n",
       "      <td>0.000</td>\n",
       "      <td>1.000</td>\n",
       "      <td>0.023</td>\n",
       "      <td>0.001</td>\n",
       "      <td>471.0</td>\n",
       "      <td>471.0</td>\n",
       "      <td>NaN</td>\n",
       "    </tr>\n",
       "    <tr>\n",
       "      <th>...</th>\n",
       "      <td>...</td>\n",
       "      <td>...</td>\n",
       "      <td>...</td>\n",
       "      <td>...</td>\n",
       "      <td>...</td>\n",
       "      <td>...</td>\n",
       "      <td>...</td>\n",
       "      <td>...</td>\n",
       "      <td>...</td>\n",
       "    </tr>\n",
       "    <tr>\n",
       "      <th>win[79]</th>\n",
       "      <td>0.528</td>\n",
       "      <td>0.500</td>\n",
       "      <td>0.000</td>\n",
       "      <td>1.000</td>\n",
       "      <td>0.023</td>\n",
       "      <td>0.001</td>\n",
       "      <td>474.0</td>\n",
       "      <td>474.0</td>\n",
       "      <td>NaN</td>\n",
       "    </tr>\n",
       "    <tr>\n",
       "      <th>win[80]</th>\n",
       "      <td>0.530</td>\n",
       "      <td>0.500</td>\n",
       "      <td>0.000</td>\n",
       "      <td>1.000</td>\n",
       "      <td>0.022</td>\n",
       "      <td>0.001</td>\n",
       "      <td>500.0</td>\n",
       "      <td>500.0</td>\n",
       "      <td>NaN</td>\n",
       "    </tr>\n",
       "    <tr>\n",
       "      <th>win[81]</th>\n",
       "      <td>0.498</td>\n",
       "      <td>0.500</td>\n",
       "      <td>0.000</td>\n",
       "      <td>1.000</td>\n",
       "      <td>0.022</td>\n",
       "      <td>0.000</td>\n",
       "      <td>537.0</td>\n",
       "      <td>500.0</td>\n",
       "      <td>NaN</td>\n",
       "    </tr>\n",
       "    <tr>\n",
       "      <th>win[82]</th>\n",
       "      <td>0.564</td>\n",
       "      <td>0.496</td>\n",
       "      <td>0.000</td>\n",
       "      <td>1.000</td>\n",
       "      <td>0.023</td>\n",
       "      <td>0.003</td>\n",
       "      <td>461.0</td>\n",
       "      <td>461.0</td>\n",
       "      <td>NaN</td>\n",
       "    </tr>\n",
       "    <tr>\n",
       "      <th>p_win</th>\n",
       "      <td>0.516</td>\n",
       "      <td>0.294</td>\n",
       "      <td>0.041</td>\n",
       "      <td>0.969</td>\n",
       "      <td>0.013</td>\n",
       "      <td>0.006</td>\n",
       "      <td>472.0</td>\n",
       "      <td>444.0</td>\n",
       "      <td>NaN</td>\n",
       "    </tr>\n",
       "  </tbody>\n",
       "</table>\n",
       "<p>84 rows × 9 columns</p>\n",
       "</div>"
      ],
      "text/plain": [
       "            mean      sd  hdi_3%  hdi_97%  mcse_mean  mcse_sd  ess_bulk  \\\n",
       "num_wins  42.246  24.658   4.000   81.000      1.105    0.495     470.0   \n",
       "win[1]     0.480   0.500   0.000    1.000      0.022    0.001     507.0   \n",
       "win[2]     0.534   0.499   0.000    1.000      0.022    0.002     503.0   \n",
       "win[3]     0.518   0.500   0.000    1.000      0.021    0.001     545.0   \n",
       "win[4]     0.524   0.500   0.000    1.000      0.023    0.001     471.0   \n",
       "...          ...     ...     ...      ...        ...      ...       ...   \n",
       "win[79]    0.528   0.500   0.000    1.000      0.023    0.001     474.0   \n",
       "win[80]    0.530   0.500   0.000    1.000      0.022    0.001     500.0   \n",
       "win[81]    0.498   0.500   0.000    1.000      0.022    0.000     537.0   \n",
       "win[82]    0.564   0.496   0.000    1.000      0.023    0.003     461.0   \n",
       "p_win      0.516   0.294   0.041    0.969      0.013    0.006     472.0   \n",
       "\n",
       "          ess_tail  r_hat  \n",
       "num_wins     436.0    NaN  \n",
       "win[1]       500.0    NaN  \n",
       "win[2]       500.0    NaN  \n",
       "win[3]       500.0    NaN  \n",
       "win[4]       471.0    NaN  \n",
       "...            ...    ...  \n",
       "win[79]      474.0    NaN  \n",
       "win[80]      500.0    NaN  \n",
       "win[81]      500.0    NaN  \n",
       "win[82]      461.0    NaN  \n",
       "p_win        444.0    NaN  \n",
       "\n",
       "[84 rows x 9 columns]"
      ]
     },
     "execution_count": 79,
     "metadata": {},
     "output_type": "execute_result"
    }
   ],
   "source": [
    "az.summary(nba_prior_idata)"
   ]
  },
  {
   "cell_type": "code",
   "execution_count": 80,
   "id": "39529a12-cb11-4ac8-b6b9-0a5d0e8de9b8",
   "metadata": {
    "execution": {
     "iopub.execute_input": "2025-07-01T17:00:47.398300Z",
     "iopub.status.busy": "2025-07-01T17:00:47.398138Z",
     "iopub.status.idle": "2025-07-01T17:00:47.536859Z",
     "shell.execute_reply": "2025-07-01T17:00:47.536332Z",
     "shell.execute_reply.started": "2025-07-01T17:00:47.398285Z"
    }
   },
   "outputs": [
    {
     "data": {
      "image/png": "[encoded data removed]",
      "text/plain": [
       "<Figure size 100x100 with 2 Axes>"
      ]
     },
     "execution_count": 80,
     "metadata": {},
     "output_type": "execute_result"
    }
   ],
   "source": [
    "nba_prior_df = nba_prior_idata.prior.to_dataframe().reset_index().drop(columns=\"chain\")\n",
    "ax = pw.Brick(figsize=(3.5, 2.25));\n",
    "sns.histplot(\n",
    "    x=\"num_wins\", data=nba_prior_df, ax=ax,\n",
    ");\n",
    "ax.axvline(x = 9, ls='dashed', color='black', alpha=0.9);\n",
    "ax.axvline(x = 73, ls='dashed', color='black', alpha=0.9);\n",
    "ax.savefig()"
   ]
  },
  {
   "cell_type": "markdown",
   "id": "653e70f8-2086-49b6-be36-d677acc2f451",
   "metadata": {},
   "source": [
    "And indeed, from this plot we can see that we have a **weakly informative** prior with respect to our above criteria: the prior predictive distribution assigns a positive probability mass to all values between 9 and 73.\n",
    "\n",
    "In fact, now we can address the footnote above: here, even someone who believes that **any** number of wins between 0 and 82 inclusive is plausible would find this satisfactory as a **weakly informative** prior, since it actually assigns a positive probability mass to all values between 0 and 82.\n",
    "\n",
    "This need not be the case, however -- meaning, there are priors which the \"9 to 73 is plausible\" person would call \"weakly informative\" while the \"0 to 82 is plausible\" person would not.\n",
    "\n",
    "Here's an example, using the **Truncated** operator that PyMC provides, which allows us to do the following:\n",
    "\n",
    "1.  Define a **Binomial** distribution to represent a number of games between 0 and 82, but then\n",
    "2.  **Truncate** the pmf of the \"true\" 0-to-82 distribution down to a 9-to-73 distribution, by \"chopping off\" the values outside of $\\{9, 10, \\ldots, 73\\}$ and re-normalizing the probability masses to sum to 1.\n",
    "\n",
    "It's a bit silly, as you'll see from the visualization, and we're modeling the season as a whole rather than individual games like in the above model, but yeah it's here to show you an example prior which can violate the \"weakly informative\" criteria!"
   ]
  },
  {
   "cell_type": "code",
   "execution_count": 148,
   "id": "8fe636cf-cdbe-44d1-a91e-17843280ba17",
   "metadata": {
    "execution": {
     "iopub.execute_input": "2025-07-01T17:27:27.690501Z",
     "iopub.status.busy": "2025-07-01T17:27:27.690250Z",
     "iopub.status.idle": "2025-07-01T17:27:27.736376Z",
     "shell.execute_reply": "2025-07-01T17:27:27.735927Z",
     "shell.execute_reply.started": "2025-07-01T17:27:27.690484Z"
    }
   },
   "outputs": [
    {
     "data": {
      "image/svg+xml": [
       "<?xml version=\"1.0\" encoding=\"UTF-8\" standalone=\"no\"?>\n",
       "<!DOCTYPE svg PUBLIC \"-//W3C//DTD SVG 1.1//EN\"\n",
       " \"http://www.w3.org/Graphics/SVG/1.1/DTD/svg11.dtd\">\n",
       "<!-- Generated by graphviz version 2.43.0 (0)\n",
       " -->\n",
       "<!-- Title: %3 Pages: 1 -->\n",
       "<svg width=\"210pt\" height=\"172pt\"\n",
       " viewBox=\"0.00 0.00 210.23 171.95\" xmlns=\"http://www.w3.org/2000/svg\" xmlns:xlink=\"http://www.w3.org/1999/xlink\">\n",
       "<g id=\"graph0\" class=\"graph\" transform=\"scale(1 1) rotate(0) translate(4 167.95)\">\n",
       "<title>%3</title>\n",
       "<polygon fill=\"white\" stroke=\"transparent\" points=\"-4,4 -4,-167.95 206.23,-167.95 206.23,4 -4,4\"/>\n",
       "<!-- num_wins_raw -->\n",
       "<g id=\"node1\" class=\"node\">\n",
       "<title>num_wins_raw</title>\n",
       "<ellipse fill=\"none\" stroke=\"black\" cx=\"101.12\" cy=\"-126.48\" rx=\"101.23\" ry=\"37.45\"/>\n",
       "<text text-anchor=\"middle\" x=\"101.12\" y=\"-137.78\" font-family=\"Times,serif\" font-size=\"14.00\">num_wins_raw</text>\n",
       "<text text-anchor=\"middle\" x=\"101.12\" y=\"-122.78\" font-family=\"Times,serif\" font-size=\"14.00\">~</text>\n",
       "<text text-anchor=\"middle\" x=\"101.12\" y=\"-107.78\" font-family=\"Times,serif\" font-size=\"14.00\">TruncatedNormal</text>\n",
       "</g>\n",
       "<!-- num_wins -->\n",
       "<g id=\"node2\" class=\"node\">\n",
       "<title>num_wins</title>\n",
       "<polygon fill=\"none\" stroke=\"black\" points=\"158.12,-53 44.12,-53 44.12,0 158.12,0 158.12,-53\"/>\n",
       "<text text-anchor=\"middle\" x=\"101.12\" y=\"-37.8\" font-family=\"Times,serif\" font-size=\"14.00\">num_wins</text>\n",
       "<text text-anchor=\"middle\" x=\"101.12\" y=\"-22.8\" font-family=\"Times,serif\" font-size=\"14.00\">~</text>\n",
       "<text text-anchor=\"middle\" x=\"101.12\" y=\"-7.8\" font-family=\"Times,serif\" font-size=\"14.00\">Deterministic</text>\n",
       "</g>\n",
       "<!-- num_wins_raw&#45;&gt;num_wins -->\n",
       "<g id=\"edge1\" class=\"edge\">\n",
       "<title>num_wins_raw&#45;&gt;num_wins</title>\n",
       "<path fill=\"none\" stroke=\"black\" d=\"M101.12,-88.99C101.12,-80.58 101.12,-71.63 101.12,-63.25\"/>\n",
       "<polygon fill=\"black\" stroke=\"black\" points=\"104.62,-63.01 101.12,-53.01 97.62,-63.01 104.62,-63.01\"/>\n",
       "</g>\n",
       "</g>\n",
       "</svg>\n"
      ],
      "text/plain": [
       "<graphviz.graphs.Digraph at 0x7c29cfd743e0>"
      ]
     },
     "execution_count": 148,
     "metadata": {},
     "output_type": "execute_result"
    }
   ],
   "source": [
    "with pm.Model() as trunc_model:\n",
    "    num_wins_raw = pm.TruncatedNormal(\"num_wins_raw\", mu=41, sigma=20, lower=8.51, upper=73.49)\n",
    "    num_wins = pm.Deterministic(\"num_wins\", pm.math.round(num_wins_raw))\n",
    "pm.model_to_graphviz(trunc_model)"
   ]
  },
  {
   "cell_type": "code",
   "execution_count": 153,
   "id": "228ae49a-1e2f-4831-ad5d-1d3d4e313a84",
   "metadata": {
    "execution": {
     "iopub.execute_input": "2025-07-01T17:27:35.472222Z",
     "iopub.status.busy": "2025-07-01T17:27:35.472015Z",
     "iopub.status.idle": "2025-07-01T17:27:36.142286Z",
     "shell.execute_reply": "2025-07-01T17:27:36.141800Z",
     "shell.execute_reply.started": "2025-07-01T17:27:35.472206Z"
    }
   },
   "outputs": [
    {
     "name": "stderr",
     "output_type": "stream",
     "text": [
      "Sampling: [num_wins_raw]\n"
     ]
    }
   ],
   "source": [
    "with trunc_model:\n",
    "    trunc_prior_idata = pm.sample_prior_predictive(draws=5000, random_seed=5650)"
   ]
  },
  {
   "cell_type": "code",
   "execution_count": 154,
   "id": "ac54f4f1-ca07-401c-ae3f-f70c38ab115d",
   "metadata": {
    "execution": {
     "iopub.execute_input": "2025-07-01T17:27:36.143310Z",
     "iopub.status.busy": "2025-07-01T17:27:36.143154Z",
     "iopub.status.idle": "2025-07-01T17:27:36.165761Z",
     "shell.execute_reply": "2025-07-01T17:27:36.165277Z",
     "shell.execute_reply.started": "2025-07-01T17:27:36.143296Z"
    }
   },
   "outputs": [
    {
     "name": "stderr",
     "output_type": "stream",
     "text": [
      "arviz - WARNING - Shape validation failed: input_shape: (1, 5000), minimum_shape: (chains=2, draws=4)\n"
     ]
    },
    {
     "data": {
      "text/html": [
       "<div>\n",
       "<style scoped>\n",
       "    .dataframe tbody tr th:only-of-type {\n",
       "        vertical-align: middle;\n",
       "    }\n",
       "\n",
       "    .dataframe tbody tr th {\n",
       "        vertical-align: top;\n",
       "    }\n",
       "\n",
       "    .dataframe thead th {\n",
       "        text-align: right;\n",
       "    }\n",
       "</style>\n",
       "<table border=\"1\" class=\"dataframe\">\n",
       "  <thead>\n",
       "    <tr style=\"text-align: right;\">\n",
       "      <th></th>\n",
       "      <th>mean</th>\n",
       "      <th>sd</th>\n",
       "      <th>hdi_3%</th>\n",
       "      <th>hdi_97%</th>\n",
       "      <th>mcse_mean</th>\n",
       "      <th>mcse_sd</th>\n",
       "      <th>ess_bulk</th>\n",
       "      <th>ess_tail</th>\n",
       "      <th>r_hat</th>\n",
       "    </tr>\n",
       "  </thead>\n",
       "  <tbody>\n",
       "    <tr>\n",
       "      <th>num_wins_raw</th>\n",
       "      <td>41.135</td>\n",
       "      <td>15.854</td>\n",
       "      <td>14.794</td>\n",
       "      <td>71.13</td>\n",
       "      <td>0.229</td>\n",
       "      <td>0.12</td>\n",
       "      <td>4808.0</td>\n",
       "      <td>4653.0</td>\n",
       "      <td>NaN</td>\n",
       "    </tr>\n",
       "    <tr>\n",
       "      <th>num_wins</th>\n",
       "      <td>41.134</td>\n",
       "      <td>15.852</td>\n",
       "      <td>12.000</td>\n",
       "      <td>68.00</td>\n",
       "      <td>0.229</td>\n",
       "      <td>0.12</td>\n",
       "      <td>4823.0</td>\n",
       "      <td>4600.0</td>\n",
       "      <td>NaN</td>\n",
       "    </tr>\n",
       "  </tbody>\n",
       "</table>\n",
       "</div>"
      ],
      "text/plain": [
       "                mean      sd  hdi_3%  hdi_97%  mcse_mean  mcse_sd  ess_bulk  \\\n",
       "num_wins_raw  41.135  15.854  14.794    71.13      0.229     0.12    4808.0   \n",
       "num_wins      41.134  15.852  12.000    68.00      0.229     0.12    4823.0   \n",
       "\n",
       "              ess_tail  r_hat  \n",
       "num_wins_raw    4653.0    NaN  \n",
       "num_wins        4600.0    NaN  "
      ]
     },
     "execution_count": 154,
     "metadata": {},
     "output_type": "execute_result"
    }
   ],
   "source": [
    "az.summary(trunc_prior_idata)"
   ]
  },
  {
   "cell_type": "code",
   "execution_count": 155,
   "id": "858403b9-9669-4ac9-b893-87f2d33fce10",
   "metadata": {
    "execution": {
     "iopub.execute_input": "2025-07-01T17:27:36.166352Z",
     "iopub.status.busy": "2025-07-01T17:27:36.166203Z",
     "iopub.status.idle": "2025-07-01T17:27:36.275676Z",
     "shell.execute_reply": "2025-07-01T17:27:36.275212Z",
     "shell.execute_reply.started": "2025-07-01T17:27:36.166338Z"
    }
   },
   "outputs": [
    {
     "data": {
      "image/png": "[encoded data removed]",
      "text/plain": [
       "<Figure size 100x100 with 2 Axes>"
      ]
     },
     "execution_count": 155,
     "metadata": {},
     "output_type": "execute_result"
    }
   ],
   "source": [
    "trunc_prior_df = trunc_prior_idata.prior.to_dataframe().reset_index().drop(columns=\"chain\")\n",
    "ax = pw.Brick(figsize=(3.5, 2.25));\n",
    "sns.histplot(\n",
    "    x=\"num_wins\", data=trunc_prior_df, ax=ax,\n",
    ");\n",
    "ax.axvline(x = 9, ls='dashed', color='black', alpha=0.9);\n",
    "ax.axvline(x = 73, ls='dashed', color='black', alpha=0.9);\n",
    "ax.savefig()"
   ]
  },
  {
   "cell_type": "markdown",
   "id": "9dce73ce-30fa-4db6-9e0d-257a94193cfb",
   "metadata": {},
   "source": [
    "The visualization shows, if you look really closely, that we indeed have a weakly-informative prior relative to the first (\"Only 9 to 73 is plausible\") person's criteria, but it's not weakly-informative relative to the second (\"0 to 82 is plausible\") person's. We could also directly verify this by converting the data from the 10,000 draws into a proper probability distribution and checking that it in fact assigns positive probability mass to each value from 9 to 73:"
   ]
  },
  {
   "cell_type": "code",
   "execution_count": 157,
   "id": "b6b309cd-279d-4a0e-87a6-5f93735cc595",
   "metadata": {
    "execution": {
     "iopub.execute_input": "2025-07-01T17:28:17.681118Z",
     "iopub.status.busy": "2025-07-01T17:28:17.680893Z",
     "iopub.status.idle": "2025-07-01T17:28:17.689982Z",
     "shell.execute_reply": "2025-07-01T17:28:17.689506Z",
     "shell.execute_reply.started": "2025-07-01T17:28:17.681102Z"
    }
   },
   "outputs": [
    {
     "data": {
      "text/html": [
       "<div>\n",
       "<style scoped>\n",
       "    .dataframe tbody tr th:only-of-type {\n",
       "        vertical-align: middle;\n",
       "    }\n",
       "\n",
       "    .dataframe tbody tr th {\n",
       "        vertical-align: top;\n",
       "    }\n",
       "\n",
       "    .dataframe thead th {\n",
       "        text-align: right;\n",
       "    }\n",
       "</style>\n",
       "<table border=\"1\" class=\"dataframe\">\n",
       "  <thead>\n",
       "    <tr style=\"text-align: right;\">\n",
       "      <th></th>\n",
       "      <th>num_wins</th>\n",
       "      <th>count</th>\n",
       "      <th>prob</th>\n",
       "    </tr>\n",
       "  </thead>\n",
       "  <tbody>\n",
       "    <tr>\n",
       "      <th>64</th>\n",
       "      <td>9</td>\n",
       "      <td>24</td>\n",
       "      <td>0.0048</td>\n",
       "    </tr>\n",
       "    <tr>\n",
       "      <th>60</th>\n",
       "      <td>10</td>\n",
       "      <td>36</td>\n",
       "      <td>0.0072</td>\n",
       "    </tr>\n",
       "    <tr>\n",
       "      <th>62</th>\n",
       "      <td>11</td>\n",
       "      <td>31</td>\n",
       "      <td>0.0062</td>\n",
       "    </tr>\n",
       "    <tr>\n",
       "      <th>55</th>\n",
       "      <td>12</td>\n",
       "      <td>44</td>\n",
       "      <td>0.0088</td>\n",
       "    </tr>\n",
       "    <tr>\n",
       "      <th>59</th>\n",
       "      <td>13</td>\n",
       "      <td>38</td>\n",
       "      <td>0.0076</td>\n",
       "    </tr>\n",
       "    <tr>\n",
       "      <th>...</th>\n",
       "      <td>...</td>\n",
       "      <td>...</td>\n",
       "      <td>...</td>\n",
       "    </tr>\n",
       "    <tr>\n",
       "      <th>51</th>\n",
       "      <td>69</td>\n",
       "      <td>51</td>\n",
       "      <td>0.0102</td>\n",
       "    </tr>\n",
       "    <tr>\n",
       "      <th>57</th>\n",
       "      <td>70</td>\n",
       "      <td>42</td>\n",
       "      <td>0.0084</td>\n",
       "    </tr>\n",
       "    <tr>\n",
       "      <th>56</th>\n",
       "      <td>71</td>\n",
       "      <td>43</td>\n",
       "      <td>0.0086</td>\n",
       "    </tr>\n",
       "    <tr>\n",
       "      <th>61</th>\n",
       "      <td>72</td>\n",
       "      <td>33</td>\n",
       "      <td>0.0066</td>\n",
       "    </tr>\n",
       "    <tr>\n",
       "      <th>63</th>\n",
       "      <td>73</td>\n",
       "      <td>30</td>\n",
       "      <td>0.0060</td>\n",
       "    </tr>\n",
       "  </tbody>\n",
       "</table>\n",
       "<p>65 rows × 3 columns</p>\n",
       "</div>"
      ],
      "text/plain": [
       "    num_wins  count    prob\n",
       "64         9     24  0.0048\n",
       "60        10     36  0.0072\n",
       "62        11     31  0.0062\n",
       "55        12     44  0.0088\n",
       "59        13     38  0.0076\n",
       "..       ...    ...     ...\n",
       "51        69     51  0.0102\n",
       "57        70     42  0.0084\n",
       "56        71     43  0.0086\n",
       "61        72     33  0.0066\n",
       "63        73     30  0.0060\n",
       "\n",
       "[65 rows x 3 columns]"
      ]
     },
     "execution_count": 157,
     "metadata": {},
     "output_type": "execute_result"
    }
   ],
   "source": [
    "trunc_prior_df['num_wins'] = trunc_prior_df['num_wins'].astype(int)\n",
    "win_counts_df = trunc_prior_df['num_wins'].value_counts().to_frame().reset_index().sort_values(by='num_wins')\n",
    "win_counts_df['prob'] = win_counts_df['count'] / win_counts_df['count'].sum()\n",
    "win_counts_df"
   ]
  },
  {
   "cell_type": "markdown",
   "id": "2b798c92-f845-4a8a-8f97-ebbf75e3275b",
   "metadata": {},
   "source": [
    "And we see, indeed, a low-but-positive probability mass on each number of wins from 9 to 73!"
   ]
  },
  {
   "cell_type": "markdown",
   "id": "bd6f6f9c-07bb-4012-93c3-3c23ddd10e9c",
   "metadata": {},
   "source": [
    "## [Part 5] Firing Squad"
   ]
  },
  {
   "cell_type": "markdown",
   "id": "42ad1d8b-d9e7-48c7-ae24-8ca465c94163",
   "metadata": {},
   "source": [
    "It's a bit hard to come up with starter code for this question but, let's try! Note how the Firing Squad example boils down to just a bunch of **dyadic** (two-node) relationships like:\n",
    "\n",
    "* If the Court Orders come in, then the Captain announces the order\n",
    "* If the Captain announces the order, Soldier $A$ shoots\n",
    "* If the Captain announces the order, Soldier $B$ shoots\n",
    "* If Soldier $A$ shoots, the Prisoner dies\n",
    "* If Soldier $B$ shoots, the Prisoner dies\n",
    "\n",
    "So, maybe the starter code can just be one \"link\" in this chain of causality. Let's model a dog named Selena who has been trained to **dance** ($D$) when the command [**\"¡Baila conmigo!\"**](https://translate.google.com/?sl=es&tl=en&text=%22%C2%A1Baila%20conmigo!%22&op=translate) ($BC$) is spoken. We'll model a single *hangout session* with the dog as follows:\n",
    "\n",
    "* In a given hangout session, the dog trainer issues the **\"¡Baila conmigo!\"** ($BC$) command with probability $0.8$\n",
    "* If the command is issued, Selena **dances** ($D$) with 100% certainty. Otherwise, she doesn't dance."
   ]
  },
  {
   "cell_type": "markdown",
   "id": "2f958c61-5e57-41ed-b3f0-8122ef323673",
   "metadata": {},
   "source": [
    "### Working Through a Solution"
   ]
  },
  {
   "cell_type": "markdown",
   "id": "fd322979-ab2a-4027-bdb7-6ef7163da1c4",
   "metadata": {},
   "source": [
    "Let's start by interpreting the facts in the problem as explicit probabilities, to make sure we're on the same page:\n",
    "\n",
    "* In a given hangout session, the dog trainer issues the **\"¡Baila conmigo!\"** ($BC$) command with probability $0.8$: $\\Pr(BC) = 0.8$\n",
    "* If the command is issued, Selena **dances** ($D$) with 100% certainty: $\\Pr(D \\mid BC) = 1.0$\n",
    "\n",
    "Let's say we start by just trying to model the command $BC$ as happening with probability $0.8$, and the dance $D$ happening with probability $1$, without linking the two together. We'd get something like the following:"
   ]
  },
  {
   "cell_type": "code",
   "execution_count": 21,
   "id": "ec258d51-d832-43c8-baad-b58cf70f7038",
   "metadata": {
    "execution": {
     "iopub.execute_input": "2025-07-01T15:22:10.096112Z",
     "iopub.status.busy": "2025-07-01T15:22:10.095668Z",
     "iopub.status.idle": "2025-07-01T15:22:10.132093Z",
     "shell.execute_reply": "2025-07-01T15:22:10.131632Z",
     "shell.execute_reply.started": "2025-07-01T15:22:10.096092Z"
    }
   },
   "outputs": [
    {
     "data": {
      "image/svg+xml": [
       "<?xml version=\"1.0\" encoding=\"UTF-8\" standalone=\"no\"?>\n",
       "<!DOCTYPE svg PUBLIC \"-//W3C//DTD SVG 1.1//EN\"\n",
       " \"http://www.w3.org/Graphics/SVG/1.1/DTD/svg11.dtd\">\n",
       "<!-- Generated by graphviz version 2.43.0 (0)\n",
       " -->\n",
       "<!-- Title: %3 Pages: 1 -->\n",
       "<svg width=\"258pt\" height=\"83pt\"\n",
       " viewBox=\"0.00 0.00 257.97 82.95\" xmlns=\"http://www.w3.org/2000/svg\" xmlns:xlink=\"http://www.w3.org/1999/xlink\">\n",
       "<g id=\"graph0\" class=\"graph\" transform=\"scale(1 1) rotate(0) translate(4 78.95)\">\n",
       "<title>%3</title>\n",
       "<polygon fill=\"white\" stroke=\"transparent\" points=\"-4,4 -4,-78.95 253.97,-78.95 253.97,4 -4,4\"/>\n",
       "<!-- D -->\n",
       "<g id=\"node1\" class=\"node\">\n",
       "<title>D</title>\n",
       "<ellipse fill=\"none\" stroke=\"black\" cx=\"57.98\" cy=\"-37.48\" rx=\"57.97\" ry=\"37.45\"/>\n",
       "<text text-anchor=\"middle\" x=\"57.98\" y=\"-48.78\" font-family=\"Times,serif\" font-size=\"14.00\">D</text>\n",
       "<text text-anchor=\"middle\" x=\"57.98\" y=\"-33.78\" font-family=\"Times,serif\" font-size=\"14.00\">~</text>\n",
       "<text text-anchor=\"middle\" x=\"57.98\" y=\"-18.78\" font-family=\"Times,serif\" font-size=\"14.00\">Bernoulli</text>\n",
       "</g>\n",
       "<!-- BC -->\n",
       "<g id=\"node2\" class=\"node\">\n",
       "<title>BC</title>\n",
       "<ellipse fill=\"none\" stroke=\"black\" cx=\"191.98\" cy=\"-37.48\" rx=\"57.97\" ry=\"37.45\"/>\n",
       "<text text-anchor=\"middle\" x=\"191.98\" y=\"-48.78\" font-family=\"Times,serif\" font-size=\"14.00\">BC</text>\n",
       "<text text-anchor=\"middle\" x=\"191.98\" y=\"-33.78\" font-family=\"Times,serif\" font-size=\"14.00\">~</text>\n",
       "<text text-anchor=\"middle\" x=\"191.98\" y=\"-18.78\" font-family=\"Times,serif\" font-size=\"14.00\">Bernoulli</text>\n",
       "</g>\n",
       "</g>\n",
       "</svg>\n"
      ],
      "text/plain": [
       "<graphviz.graphs.Digraph at 0x7c29d838eff0>"
      ]
     },
     "execution_count": 21,
     "metadata": {},
     "output_type": "execute_result"
    }
   ],
   "source": [
    "with pm.Model() as bad_dance_model:\n",
    "    BC = pm.Bernoulli(\"BC\", p=0.8)\n",
    "    D = pm.Bernoulli(\"D\", p=1.0)\n",
    "pm.model_to_graphviz(bad_dance_model)"
   ]
  },
  {
   "cell_type": "markdown",
   "id": "fd356fa7-7dfa-4ce1-a25c-a4a81990b38f",
   "metadata": {},
   "source": [
    "And by displaying the PGM like this, we can see that something has gone wrong with our modeling, since the command $BC$ is supposed to have an effect on dancing $D$: there's supposed to be an arrow from $BC$ to $D$!\n",
    "\n",
    "So, this points us towards the fact that the parameter `p`, the probability of the `pm.Bernoulli()` Random Variable `D`, should depend on `BC`. In this case, we can use `pm.math.switch()` as basically an `if` statement which determines the final value of `p`:"
   ]
  },
  {
   "cell_type": "code",
   "execution_count": 22,
   "id": "1695abc6-140a-48d9-8bf1-79c3426b0acc",
   "metadata": {
    "execution": {
     "iopub.execute_input": "2025-07-01T15:22:10.675907Z",
     "iopub.status.busy": "2025-07-01T15:22:10.675693Z",
     "iopub.status.idle": "2025-07-01T15:22:10.709850Z",
     "shell.execute_reply": "2025-07-01T15:22:10.709355Z",
     "shell.execute_reply.started": "2025-07-01T15:22:10.675892Z"
    }
   },
   "outputs": [
    {
     "data": {
      "image/svg+xml": [
       "<?xml version=\"1.0\" encoding=\"UTF-8\" standalone=\"no\"?>\n",
       "<!DOCTYPE svg PUBLIC \"-//W3C//DTD SVG 1.1//EN\"\n",
       " \"http://www.w3.org/Graphics/SVG/1.1/DTD/svg11.dtd\">\n",
       "<!-- Generated by graphviz version 2.43.0 (0)\n",
       " -->\n",
       "<!-- Title: %3 Pages: 1 -->\n",
       "<svg width=\"124pt\" height=\"194pt\"\n",
       " viewBox=\"0.00 0.00 123.97 193.91\" xmlns=\"http://www.w3.org/2000/svg\" xmlns:xlink=\"http://www.w3.org/1999/xlink\">\n",
       "<g id=\"graph0\" class=\"graph\" transform=\"scale(1 1) rotate(0) translate(4 189.91)\">\n",
       "<title>%3</title>\n",
       "<polygon fill=\"white\" stroke=\"transparent\" points=\"-4,4 -4,-189.91 119.97,-189.91 119.97,4 -4,4\"/>\n",
       "<!-- D -->\n",
       "<g id=\"node1\" class=\"node\">\n",
       "<title>D</title>\n",
       "<ellipse fill=\"none\" stroke=\"black\" cx=\"57.98\" cy=\"-37.48\" rx=\"57.97\" ry=\"37.45\"/>\n",
       "<text text-anchor=\"middle\" x=\"57.98\" y=\"-48.78\" font-family=\"Times,serif\" font-size=\"14.00\">D</text>\n",
       "<text text-anchor=\"middle\" x=\"57.98\" y=\"-33.78\" font-family=\"Times,serif\" font-size=\"14.00\">~</text>\n",
       "<text text-anchor=\"middle\" x=\"57.98\" y=\"-18.78\" font-family=\"Times,serif\" font-size=\"14.00\">Bernoulli</text>\n",
       "</g>\n",
       "<!-- BC -->\n",
       "<g id=\"node2\" class=\"node\">\n",
       "<title>BC</title>\n",
       "<ellipse fill=\"none\" stroke=\"black\" cx=\"57.98\" cy=\"-148.43\" rx=\"57.97\" ry=\"37.45\"/>\n",
       "<text text-anchor=\"middle\" x=\"57.98\" y=\"-159.73\" font-family=\"Times,serif\" font-size=\"14.00\">BC</text>\n",
       "<text text-anchor=\"middle\" x=\"57.98\" y=\"-144.73\" font-family=\"Times,serif\" font-size=\"14.00\">~</text>\n",
       "<text text-anchor=\"middle\" x=\"57.98\" y=\"-129.73\" font-family=\"Times,serif\" font-size=\"14.00\">Bernoulli</text>\n",
       "</g>\n",
       "<!-- BC&#45;&gt;D -->\n",
       "<g id=\"edge1\" class=\"edge\">\n",
       "<title>BC&#45;&gt;D</title>\n",
       "<path fill=\"none\" stroke=\"black\" d=\"M57.98,-110.85C57.98,-102.67 57.98,-93.89 57.98,-85.37\"/>\n",
       "<polygon fill=\"black\" stroke=\"black\" points=\"61.48,-85.15 57.98,-75.15 54.48,-85.15 61.48,-85.15\"/>\n",
       "</g>\n",
       "</g>\n",
       "</svg>\n"
      ],
      "text/plain": [
       "<graphviz.graphs.Digraph at 0x7c29d8362a80>"
      ]
     },
     "execution_count": 22,
     "metadata": {},
     "output_type": "execute_result"
    }
   ],
   "source": [
    "with pm.Model() as dance_model:\n",
    "    BC = pm.Bernoulli(\"BC\", p=0.8)\n",
    "    D = pm.Bernoulli(\"D\", p=pm.math.switch(BC, 1.0, 0.0))\n",
    "pm.model_to_graphviz(dance_model)"
   ]
  },
  {
   "cell_type": "markdown",
   "id": "de35e50f-4891-46cb-a1be-7d4bdbee8415",
   "metadata": {},
   "source": [
    "And now the PGM looks as expected."
   ]
  },
  {
   "cell_type": "markdown",
   "id": "e9ad5612-6ad5-46cc-a9e3-228811c560ff",
   "metadata": {},
   "source": [
    "### Probabilities Without $\\textsf{do}()$"
   ]
  },
  {
   "cell_type": "markdown",
   "id": "7afddf65-c793-49fc-a407-a2a126c91378",
   "metadata": {},
   "source": [
    "Off rip, let's \"extract\" some general probabilistic facts about this stochastic system we've now set up, before we apply $\\textsf{do}()$ or observe data or anything like that.\n",
    "\n",
    "To achieve this, we use the first of **three different ways** you can derive information from a `pm.Model()` object: PyMC's `sample_prior_predictive()` function<sup>[1]</sup>. The way I think of this function is that it tells us what we can say about the different variables without having any additional information besides the model itself: any information, that is, besides the probability distributions of the RVs and how they're linked together.\n",
    "\n",
    "Sampling from the prior distribution looks as follows:\n",
    "\n",
    "---\n",
    "\n",
    "<small>\n",
    "\n",
    "1.  The names of the functions in PyMC are extremely confusing imo (though they do update them all the time given user feedback!): the two types of **posterior** distributions have separate sampling functions, `sample()` for the posterior and `sample_posterior_predictive()` for the posterior predictive distribution. However, for reasons I don't entirely understand, we use `sample_prior_predictive()` to obtain **both** the prior **and** prior predictive distributions.\n",
    "\n",
    "</small>"
   ]
  },
  {
   "cell_type": "code",
   "execution_count": 23,
   "id": "fd89f818-7afb-4c4a-aaac-d793722a05b4",
   "metadata": {
    "execution": {
     "iopub.execute_input": "2025-07-01T15:22:12.587235Z",
     "iopub.status.busy": "2025-07-01T15:22:12.586964Z",
     "iopub.status.idle": "2025-07-01T15:22:12.655145Z",
     "shell.execute_reply": "2025-07-01T15:22:12.654655Z",
     "shell.execute_reply.started": "2025-07-01T15:22:12.587214Z"
    }
   },
   "outputs": [
    {
     "name": "stderr",
     "output_type": "stream",
     "text": [
      "Sampling: [BC, D]\n"
     ]
    }
   ],
   "source": [
    "with dance_model:\n",
    "    dance_prior_idata = pm.sample_prior_predictive(random_seed=5650)"
   ]
  },
  {
   "cell_type": "markdown",
   "id": "0543d15a-1fcd-4805-9dbc-3ef504433e37",
   "metadata": {},
   "source": [
    "Printing out the information in `dance_prior_idata` on its own isn't that helpful, unless you already know how the [`xarray` library](https://docs.xarray.dev/en/stable/) works (which is good to know!), but there are two other ways to display the results that are a bit more helpful.\n",
    "\n",
    "First, there is a [library called `arviz`](https://www.arviz.org/en/latest/) -- which actually used to be part of PyMC until it was split off as an independent Bayesian inference visualization library -- that you can use to display **summary statistics** of the sampling:"
   ]
  },
  {
   "cell_type": "code",
   "execution_count": 24,
   "id": "e0a4cace-517a-48c3-9f74-ec473a3c6239",
   "metadata": {
    "execution": {
     "iopub.execute_input": "2025-07-01T15:22:13.100199Z",
     "iopub.status.busy": "2025-07-01T15:22:13.099971Z",
     "iopub.status.idle": "2025-07-01T15:22:13.120582Z",
     "shell.execute_reply": "2025-07-01T15:22:13.120096Z",
     "shell.execute_reply.started": "2025-07-01T15:22:13.100181Z"
    }
   },
   "outputs": [
    {
     "name": "stderr",
     "output_type": "stream",
     "text": [
      "arviz - WARNING - Shape validation failed: input_shape: (1, 500), minimum_shape: (chains=2, draws=4)\n"
     ]
    },
    {
     "data": {
      "text/html": [
       "<div>\n",
       "<style scoped>\n",
       "    .dataframe tbody tr th:only-of-type {\n",
       "        vertical-align: middle;\n",
       "    }\n",
       "\n",
       "    .dataframe tbody tr th {\n",
       "        vertical-align: top;\n",
       "    }\n",
       "\n",
       "    .dataframe thead th {\n",
       "        text-align: right;\n",
       "    }\n",
       "</style>\n",
       "<table border=\"1\" class=\"dataframe\">\n",
       "  <thead>\n",
       "    <tr style=\"text-align: right;\">\n",
       "      <th></th>\n",
       "      <th>mean</th>\n",
       "      <th>sd</th>\n",
       "      <th>hdi_3%</th>\n",
       "      <th>hdi_97%</th>\n",
       "      <th>mcse_mean</th>\n",
       "      <th>mcse_sd</th>\n",
       "      <th>ess_bulk</th>\n",
       "      <th>ess_tail</th>\n",
       "      <th>r_hat</th>\n",
       "    </tr>\n",
       "  </thead>\n",
       "  <tbody>\n",
       "    <tr>\n",
       "      <th>D</th>\n",
       "      <td>0.762</td>\n",
       "      <td>0.426</td>\n",
       "      <td>0.0</td>\n",
       "      <td>1.0</td>\n",
       "      <td>0.021</td>\n",
       "      <td>0.013</td>\n",
       "      <td>412.0</td>\n",
       "      <td>412.0</td>\n",
       "      <td>NaN</td>\n",
       "    </tr>\n",
       "    <tr>\n",
       "      <th>BC</th>\n",
       "      <td>0.762</td>\n",
       "      <td>0.426</td>\n",
       "      <td>0.0</td>\n",
       "      <td>1.0</td>\n",
       "      <td>0.021</td>\n",
       "      <td>0.013</td>\n",
       "      <td>412.0</td>\n",
       "      <td>412.0</td>\n",
       "      <td>NaN</td>\n",
       "    </tr>\n",
       "  </tbody>\n",
       "</table>\n",
       "</div>"
      ],
      "text/plain": [
       "     mean     sd  hdi_3%  hdi_97%  mcse_mean  mcse_sd  ess_bulk  ess_tail  \\\n",
       "D   0.762  0.426     0.0      1.0      0.021    0.013     412.0     412.0   \n",
       "BC  0.762  0.426     0.0      1.0      0.021    0.013     412.0     412.0   \n",
       "\n",
       "    r_hat  \n",
       "D     NaN  \n",
       "BC    NaN  "
      ]
     },
     "execution_count": 24,
     "metadata": {},
     "output_type": "execute_result"
    }
   ],
   "source": [
    "az.summary(dance_prior_idata.prior)"
   ]
  },
  {
   "cell_type": "markdown",
   "id": "91d78d9a-a646-4d5d-83b4-9c068ac3a186",
   "metadata": {},
   "source": [
    "Second, to use the full results of the sampling, you can just convert the `idata` object into a Pandas `DataFrame` by using the `.to_dataframe()` function:"
   ]
  },
  {
   "cell_type": "code",
   "execution_count": 25,
   "id": "1135d673-ea3d-4270-9904-1f561e2453de",
   "metadata": {
    "execution": {
     "iopub.execute_input": "2025-07-01T15:22:14.161371Z",
     "iopub.status.busy": "2025-07-01T15:22:14.161117Z",
     "iopub.status.idle": "2025-07-01T15:22:14.169959Z",
     "shell.execute_reply": "2025-07-01T15:22:14.169503Z",
     "shell.execute_reply.started": "2025-07-01T15:22:14.161353Z"
    }
   },
   "outputs": [
    {
     "data": {
      "text/html": [
       "<div>\n",
       "<style scoped>\n",
       "    .dataframe tbody tr th:only-of-type {\n",
       "        vertical-align: middle;\n",
       "    }\n",
       "\n",
       "    .dataframe tbody tr th {\n",
       "        vertical-align: top;\n",
       "    }\n",
       "\n",
       "    .dataframe thead th {\n",
       "        text-align: right;\n",
       "    }\n",
       "</style>\n",
       "<table border=\"1\" class=\"dataframe\">\n",
       "  <thead>\n",
       "    <tr style=\"text-align: right;\">\n",
       "      <th></th>\n",
       "      <th></th>\n",
       "      <th>D</th>\n",
       "      <th>BC</th>\n",
       "    </tr>\n",
       "    <tr>\n",
       "      <th>chain</th>\n",
       "      <th>draw</th>\n",
       "      <th></th>\n",
       "      <th></th>\n",
       "    </tr>\n",
       "  </thead>\n",
       "  <tbody>\n",
       "    <tr>\n",
       "      <th rowspan=\"11\" valign=\"top\">0</th>\n",
       "      <th>0</th>\n",
       "      <td>0</td>\n",
       "      <td>0</td>\n",
       "    </tr>\n",
       "    <tr>\n",
       "      <th>1</th>\n",
       "      <td>1</td>\n",
       "      <td>1</td>\n",
       "    </tr>\n",
       "    <tr>\n",
       "      <th>2</th>\n",
       "      <td>1</td>\n",
       "      <td>1</td>\n",
       "    </tr>\n",
       "    <tr>\n",
       "      <th>3</th>\n",
       "      <td>0</td>\n",
       "      <td>0</td>\n",
       "    </tr>\n",
       "    <tr>\n",
       "      <th>4</th>\n",
       "      <td>0</td>\n",
       "      <td>0</td>\n",
       "    </tr>\n",
       "    <tr>\n",
       "      <th>...</th>\n",
       "      <td>...</td>\n",
       "      <td>...</td>\n",
       "    </tr>\n",
       "    <tr>\n",
       "      <th>495</th>\n",
       "      <td>0</td>\n",
       "      <td>0</td>\n",
       "    </tr>\n",
       "    <tr>\n",
       "      <th>496</th>\n",
       "      <td>1</td>\n",
       "      <td>1</td>\n",
       "    </tr>\n",
       "    <tr>\n",
       "      <th>497</th>\n",
       "      <td>1</td>\n",
       "      <td>1</td>\n",
       "    </tr>\n",
       "    <tr>\n",
       "      <th>498</th>\n",
       "      <td>1</td>\n",
       "      <td>1</td>\n",
       "    </tr>\n",
       "    <tr>\n",
       "      <th>499</th>\n",
       "      <td>1</td>\n",
       "      <td>1</td>\n",
       "    </tr>\n",
       "  </tbody>\n",
       "</table>\n",
       "<p>500 rows × 2 columns</p>\n",
       "</div>"
      ],
      "text/plain": [
       "            D  BC\n",
       "chain draw       \n",
       "0     0     0   0\n",
       "      1     1   1\n",
       "      2     1   1\n",
       "      3     0   0\n",
       "      4     0   0\n",
       "...        ..  ..\n",
       "      495   0   0\n",
       "      496   1   1\n",
       "      497   1   1\n",
       "      498   1   1\n",
       "      499   1   1\n",
       "\n",
       "[500 rows x 2 columns]"
      ]
     },
     "execution_count": 25,
     "metadata": {},
     "output_type": "execute_result"
    }
   ],
   "source": [
    "dance_prior_df = dance_prior_idata.prior.to_dataframe()\n",
    "dance_prior_df"
   ]
  },
  {
   "cell_type": "markdown",
   "id": "b92c45e2-8e1e-4543-9bf5-cb0e5f1f3207",
   "metadata": {},
   "source": [
    "If we use this on its own, you'll notice that it produces a fancy `DataFrame` with a dual index: first indexed by `chain` and then by `draw`. This can be helpful in general, but to me it makes it complicated (since for example `chain` is useless here while `draw` can't be treated like a normal column since it's an index), so I like to use `.reset_index()` to transform these from indices into regular columns, and then I usually drop `chain` (this only becomes useful when you start doing fancy Markov Chain Monte Carlo estimation where you use multiple chains so that you can basically throw away non-convergent estimations):"
   ]
  },
  {
   "cell_type": "code",
   "execution_count": 26,
   "id": "a1c1ef46-4a6d-47a5-a36c-dc4ed12e02c9",
   "metadata": {
    "execution": {
     "iopub.execute_input": "2025-07-01T15:22:14.868511Z",
     "iopub.status.busy": "2025-07-01T15:22:14.868208Z",
     "iopub.status.idle": "2025-07-01T15:22:14.877471Z",
     "shell.execute_reply": "2025-07-01T15:22:14.876990Z",
     "shell.execute_reply.started": "2025-07-01T15:22:14.868491Z"
    }
   },
   "outputs": [
    {
     "data": {
      "text/html": [
       "<div>\n",
       "<style scoped>\n",
       "    .dataframe tbody tr th:only-of-type {\n",
       "        vertical-align: middle;\n",
       "    }\n",
       "\n",
       "    .dataframe tbody tr th {\n",
       "        vertical-align: top;\n",
       "    }\n",
       "\n",
       "    .dataframe thead th {\n",
       "        text-align: right;\n",
       "    }\n",
       "</style>\n",
       "<table border=\"1\" class=\"dataframe\">\n",
       "  <thead>\n",
       "    <tr style=\"text-align: right;\">\n",
       "      <th></th>\n",
       "      <th>draw</th>\n",
       "      <th>D</th>\n",
       "      <th>BC</th>\n",
       "    </tr>\n",
       "  </thead>\n",
       "  <tbody>\n",
       "    <tr>\n",
       "      <th>0</th>\n",
       "      <td>0</td>\n",
       "      <td>0</td>\n",
       "      <td>0</td>\n",
       "    </tr>\n",
       "    <tr>\n",
       "      <th>1</th>\n",
       "      <td>1</td>\n",
       "      <td>1</td>\n",
       "      <td>1</td>\n",
       "    </tr>\n",
       "    <tr>\n",
       "      <th>2</th>\n",
       "      <td>2</td>\n",
       "      <td>1</td>\n",
       "      <td>1</td>\n",
       "    </tr>\n",
       "    <tr>\n",
       "      <th>3</th>\n",
       "      <td>3</td>\n",
       "      <td>0</td>\n",
       "      <td>0</td>\n",
       "    </tr>\n",
       "    <tr>\n",
       "      <th>4</th>\n",
       "      <td>4</td>\n",
       "      <td>0</td>\n",
       "      <td>0</td>\n",
       "    </tr>\n",
       "    <tr>\n",
       "      <th>...</th>\n",
       "      <td>...</td>\n",
       "      <td>...</td>\n",
       "      <td>...</td>\n",
       "    </tr>\n",
       "    <tr>\n",
       "      <th>495</th>\n",
       "      <td>495</td>\n",
       "      <td>0</td>\n",
       "      <td>0</td>\n",
       "    </tr>\n",
       "    <tr>\n",
       "      <th>496</th>\n",
       "      <td>496</td>\n",
       "      <td>1</td>\n",
       "      <td>1</td>\n",
       "    </tr>\n",
       "    <tr>\n",
       "      <th>497</th>\n",
       "      <td>497</td>\n",
       "      <td>1</td>\n",
       "      <td>1</td>\n",
       "    </tr>\n",
       "    <tr>\n",
       "      <th>498</th>\n",
       "      <td>498</td>\n",
       "      <td>1</td>\n",
       "      <td>1</td>\n",
       "    </tr>\n",
       "    <tr>\n",
       "      <th>499</th>\n",
       "      <td>499</td>\n",
       "      <td>1</td>\n",
       "      <td>1</td>\n",
       "    </tr>\n",
       "  </tbody>\n",
       "</table>\n",
       "<p>500 rows × 3 columns</p>\n",
       "</div>"
      ],
      "text/plain": [
       "     draw  D  BC\n",
       "0       0  0   0\n",
       "1       1  1   1\n",
       "2       2  1   1\n",
       "3       3  0   0\n",
       "4       4  0   0\n",
       "..    ... ..  ..\n",
       "495   495  0   0\n",
       "496   496  1   1\n",
       "497   497  1   1\n",
       "498   498  1   1\n",
       "499   499  1   1\n",
       "\n",
       "[500 rows x 3 columns]"
      ]
     },
     "execution_count": 26,
     "metadata": {},
     "output_type": "execute_result"
    }
   ],
   "source": [
    "dance_prior_df = dance_prior_idata.prior.to_dataframe().reset_index().drop(columns=\"chain\")\n",
    "dance_prior_df"
   ]
  },
  {
   "cell_type": "markdown",
   "id": "c1ba7601-580c-43ce-a740-900679221168",
   "metadata": {},
   "source": [
    "And now that we have the samples in this form, we can plot them using e.g. `seaborn` like any other data in a Pandas `DataFrame`! As a \"wrapper\" around `seaborn` that makes it easier to arrange multiple plots in a grid, I use a library called `patchworklib`, which is what the `pw.Brick()` and the `ax.savefig()` lines are for here. For example, I can create plots of the distributions for both $BC$ and $D$ here and then place them side-by-side using `|`:"
   ]
  },
  {
   "cell_type": "code",
   "execution_count": 35,
   "id": "fee53dd3-aab7-41ce-a75e-3ad536b7fb39",
   "metadata": {
    "execution": {
     "iopub.execute_input": "2025-07-01T15:25:31.372622Z",
     "iopub.status.busy": "2025-07-01T15:25:31.372336Z",
     "iopub.status.idle": "2025-07-01T15:25:31.702038Z",
     "shell.execute_reply": "2025-07-01T15:25:31.701571Z",
     "shell.execute_reply.started": "2025-07-01T15:25:31.372605Z"
    }
   },
   "outputs": [
    {
     "data": {
      "image/png": "[encoded data removed]",
      "text/plain": [
       "<Figure size 100x100 with 5 Axes>"
      ]
     },
     "execution_count": 35,
     "metadata": {},
     "output_type": "execute_result"
    }
   ],
   "source": [
    "ax_bc = pw.Brick(figsize=(3.5, 2.25));\n",
    "sns.histplot(\n",
    "    x=\"BC\", data=dance_prior_df, ax=ax_bc, discrete=True, shrink=0.2\n",
    ");\n",
    "ax_d = pw.Brick(figsize=(3.5, 2.25));\n",
    "sns.histplot(\n",
    "    x=\"D\", data=dance_prior_df, ax=ax_d, discrete=True, shrink=0.2\n",
    ");\n",
    "ax_prior = ax_bc | ax_d;\n",
    "ax_prior.savefig()"
   ]
  },
  {
   "cell_type": "markdown",
   "id": "17d5faee-fee6-4d90-b4a7-c01659497879",
   "metadata": {},
   "source": [
    "### Applying the $\\textsf{do}()$ Operator"
   ]
  },
  {
   "cell_type": "markdown",
   "id": "8ba1b515-73db-4f8e-8cba-9b6722568446",
   "metadata": {},
   "source": [
    "The above plots represent properties of the *stochastic system* we've defined, at the first -- **associational** -- level of the Ladder of Causal Inference. But, as we've discussed ad nauseam in class, to learn about the second -- **causal** -- level of this ladder, we'd like to see what happens when we **intervene** to **force** our model to represent the world where the command $BC$ is issued: how does this affect the \"downstream\" dance variable $D$?\n",
    "\n",
    "By intervening to force $BC \\leftarrow 0$, and then separately to force $BC \\leftarrow 1$, and looking at the resulting values of $D$, we can infer precisely the **causal impact** of $BC$ on $D$, rather than just the co-occurrence-based conditional probability $\\Pr(D \\mid BC)$."
   ]
  },
  {
   "cell_type": "code",
   "execution_count": 36,
   "id": "8042f5cd-06a2-4213-be5f-f2823a11523d",
   "metadata": {
    "execution": {
     "iopub.execute_input": "2025-07-01T15:44:45.553979Z",
     "iopub.status.busy": "2025-07-01T15:44:45.553717Z",
     "iopub.status.idle": "2025-07-01T15:44:45.588376Z",
     "shell.execute_reply": "2025-07-01T15:44:45.587942Z",
     "shell.execute_reply.started": "2025-07-01T15:44:45.553959Z"
    }
   },
   "outputs": [
    {
     "data": {
      "image/svg+xml": [
       "<?xml version=\"1.0\" encoding=\"UTF-8\" standalone=\"no\"?>\n",
       "<!DOCTYPE svg PUBLIC \"-//W3C//DTD SVG 1.1//EN\"\n",
       " \"http://www.w3.org/Graphics/SVG/1.1/DTD/svg11.dtd\">\n",
       "<!-- Generated by graphviz version 2.43.0 (0)\n",
       " -->\n",
       "<!-- Title: %3 Pages: 1 -->\n",
       "<svg width=\"124pt\" height=\"172pt\"\n",
       " viewBox=\"0.00 0.00 123.97 171.95\" xmlns=\"http://www.w3.org/2000/svg\" xmlns:xlink=\"http://www.w3.org/1999/xlink\">\n",
       "<g id=\"graph0\" class=\"graph\" transform=\"scale(1 1) rotate(0) translate(4 167.95)\">\n",
       "<title>%3</title>\n",
       "<polygon fill=\"white\" stroke=\"transparent\" points=\"-4,4 -4,-167.95 119.97,-167.95 119.97,4 -4,4\"/>\n",
       "<!-- D -->\n",
       "<g id=\"node1\" class=\"node\">\n",
       "<title>D</title>\n",
       "<ellipse fill=\"none\" stroke=\"black\" cx=\"57.98\" cy=\"-37.48\" rx=\"57.97\" ry=\"37.45\"/>\n",
       "<text text-anchor=\"middle\" x=\"57.98\" y=\"-48.78\" font-family=\"Times,serif\" font-size=\"14.00\">D</text>\n",
       "<text text-anchor=\"middle\" x=\"57.98\" y=\"-33.78\" font-family=\"Times,serif\" font-size=\"14.00\">~</text>\n",
       "<text text-anchor=\"middle\" x=\"57.98\" y=\"-18.78\" font-family=\"Times,serif\" font-size=\"14.00\">Bernoulli</text>\n",
       "</g>\n",
       "<!-- BC -->\n",
       "<g id=\"node2\" class=\"node\">\n",
       "<title>BC</title>\n",
       "<path fill=\"lightgrey\" stroke=\"black\" d=\"M72.98,-163.95C72.98,-163.95 42.98,-163.95 42.98,-163.95 36.98,-163.95 30.98,-157.95 30.98,-151.95 30.98,-151.95 30.98,-122.95 30.98,-122.95 30.98,-116.95 36.98,-110.95 42.98,-110.95 42.98,-110.95 72.98,-110.95 72.98,-110.95 78.98,-110.95 84.98,-116.95 84.98,-122.95 84.98,-122.95 84.98,-151.95 84.98,-151.95 84.98,-157.95 78.98,-163.95 72.98,-163.95\"/>\n",
       "<text text-anchor=\"middle\" x=\"57.98\" y=\"-148.75\" font-family=\"Times,serif\" font-size=\"14.00\">BC</text>\n",
       "<text text-anchor=\"middle\" x=\"57.98\" y=\"-133.75\" font-family=\"Times,serif\" font-size=\"14.00\">~</text>\n",
       "<text text-anchor=\"middle\" x=\"57.98\" y=\"-118.75\" font-family=\"Times,serif\" font-size=\"14.00\">Data</text>\n",
       "</g>\n",
       "<!-- BC&#45;&gt;D -->\n",
       "<g id=\"edge1\" class=\"edge\">\n",
       "<title>BC&#45;&gt;D</title>\n",
       "<path fill=\"none\" stroke=\"black\" d=\"M57.98,-110.71C57.98,-102.89 57.98,-94.03 57.98,-85.27\"/>\n",
       "<polygon fill=\"black\" stroke=\"black\" points=\"61.48,-85.1 57.98,-75.1 54.48,-85.1 61.48,-85.1\"/>\n",
       "</g>\n",
       "</g>\n",
       "</svg>\n"
      ],
      "text/plain": [
       "<graphviz.graphs.Digraph at 0x7c29d5f62a50>"
      ]
     },
     "execution_count": 36,
     "metadata": {},
     "output_type": "execute_result"
    }
   ],
   "source": [
    "from pymc.model.transform.conditioning import do\n",
    "do_BC1_model = do(dance_model, {'BC': 1})\n",
    "pm.model_to_graphviz(do_BC1_model)"
   ]
  },
  {
   "cell_type": "code",
   "execution_count": 37,
   "id": "721285b0-c0c2-4c92-ac47-257cecfedc14",
   "metadata": {
    "execution": {
     "iopub.execute_input": "2025-07-01T15:45:45.490080Z",
     "iopub.status.busy": "2025-07-01T15:45:45.489837Z",
     "iopub.status.idle": "2025-07-01T15:45:45.532355Z",
     "shell.execute_reply": "2025-07-01T15:45:45.531857Z",
     "shell.execute_reply.started": "2025-07-01T15:45:45.490063Z"
    }
   },
   "outputs": [
    {
     "name": "stderr",
     "output_type": "stream",
     "text": [
      "Sampling: [D]\n"
     ]
    }
   ],
   "source": [
    "with do_BC1_model:\n",
    "    BC1_idata = pm.sample_prior_predictive(random_seed=5650)"
   ]
  },
  {
   "cell_type": "code",
   "execution_count": 40,
   "id": "36949378-cf5d-4710-aff2-45674409ceae",
   "metadata": {
    "execution": {
     "iopub.execute_input": "2025-07-01T15:46:27.349177Z",
     "iopub.status.busy": "2025-07-01T15:46:27.348907Z",
     "iopub.status.idle": "2025-07-01T15:46:27.357545Z",
     "shell.execute_reply": "2025-07-01T15:46:27.357053Z",
     "shell.execute_reply.started": "2025-07-01T15:46:27.349160Z"
    }
   },
   "outputs": [
    {
     "data": {
      "text/html": [
       "<div>\n",
       "<style scoped>\n",
       "    .dataframe tbody tr th:only-of-type {\n",
       "        vertical-align: middle;\n",
       "    }\n",
       "\n",
       "    .dataframe tbody tr th {\n",
       "        vertical-align: top;\n",
       "    }\n",
       "\n",
       "    .dataframe thead th {\n",
       "        text-align: right;\n",
       "    }\n",
       "</style>\n",
       "<table border=\"1\" class=\"dataframe\">\n",
       "  <thead>\n",
       "    <tr style=\"text-align: right;\">\n",
       "      <th></th>\n",
       "      <th></th>\n",
       "      <th>D</th>\n",
       "    </tr>\n",
       "    <tr>\n",
       "      <th>chain</th>\n",
       "      <th>draw</th>\n",
       "      <th></th>\n",
       "    </tr>\n",
       "  </thead>\n",
       "  <tbody>\n",
       "    <tr>\n",
       "      <th rowspan=\"11\" valign=\"top\">0</th>\n",
       "      <th>0</th>\n",
       "      <td>1</td>\n",
       "    </tr>\n",
       "    <tr>\n",
       "      <th>1</th>\n",
       "      <td>1</td>\n",
       "    </tr>\n",
       "    <tr>\n",
       "      <th>2</th>\n",
       "      <td>1</td>\n",
       "    </tr>\n",
       "    <tr>\n",
       "      <th>3</th>\n",
       "      <td>1</td>\n",
       "    </tr>\n",
       "    <tr>\n",
       "      <th>4</th>\n",
       "      <td>1</td>\n",
       "    </tr>\n",
       "    <tr>\n",
       "      <th>...</th>\n",
       "      <td>...</td>\n",
       "    </tr>\n",
       "    <tr>\n",
       "      <th>495</th>\n",
       "      <td>1</td>\n",
       "    </tr>\n",
       "    <tr>\n",
       "      <th>496</th>\n",
       "      <td>1</td>\n",
       "    </tr>\n",
       "    <tr>\n",
       "      <th>497</th>\n",
       "      <td>1</td>\n",
       "    </tr>\n",
       "    <tr>\n",
       "      <th>498</th>\n",
       "      <td>1</td>\n",
       "    </tr>\n",
       "    <tr>\n",
       "      <th>499</th>\n",
       "      <td>1</td>\n",
       "    </tr>\n",
       "  </tbody>\n",
       "</table>\n",
       "<p>500 rows × 1 columns</p>\n",
       "</div>"
      ],
      "text/plain": [
       "            D\n",
       "chain draw   \n",
       "0     0     1\n",
       "      1     1\n",
       "      2     1\n",
       "      3     1\n",
       "      4     1\n",
       "...        ..\n",
       "      495   1\n",
       "      496   1\n",
       "      497   1\n",
       "      498   1\n",
       "      499   1\n",
       "\n",
       "[500 rows x 1 columns]"
      ]
     },
     "execution_count": 40,
     "metadata": {},
     "output_type": "execute_result"
    }
   ],
   "source": [
    "BC1_idata_df = BC1_idata.prior.to_dataframe()\n",
    "BC1_idata_df"
   ]
  },
  {
   "cell_type": "code",
   "execution_count": 41,
   "id": "bbaa4c5e-e017-4e3a-b300-e2b92452813f",
   "metadata": {
    "execution": {
     "iopub.execute_input": "2025-07-01T15:46:56.033222Z",
     "iopub.status.busy": "2025-07-01T15:46:56.032902Z",
     "iopub.status.idle": "2025-07-01T15:46:56.037479Z",
     "shell.execute_reply": "2025-07-01T15:46:56.036943Z",
     "shell.execute_reply.started": "2025-07-01T15:46:56.033199Z"
    }
   },
   "outputs": [
    {
     "data": {
      "text/plain": [
       "1.0"
      ]
     },
     "execution_count": 41,
     "metadata": {},
     "output_type": "execute_result"
    }
   ],
   "source": [
    "BC1_idata_df['D'].mean()"
   ]
  },
  {
   "cell_type": "code",
   "execution_count": 42,
   "id": "633988d7-e823-4976-8f18-a04143cbf601",
   "metadata": {
    "execution": {
     "iopub.execute_input": "2025-07-01T15:47:10.496347Z",
     "iopub.status.busy": "2025-07-01T15:47:10.496097Z",
     "iopub.status.idle": "2025-07-01T15:47:10.531459Z",
     "shell.execute_reply": "2025-07-01T15:47:10.530918Z",
     "shell.execute_reply.started": "2025-07-01T15:47:10.496330Z"
    }
   },
   "outputs": [
    {
     "data": {
      "image/svg+xml": [
       "<?xml version=\"1.0\" encoding=\"UTF-8\" standalone=\"no\"?>\n",
       "<!DOCTYPE svg PUBLIC \"-//W3C//DTD SVG 1.1//EN\"\n",
       " \"http://www.w3.org/Graphics/SVG/1.1/DTD/svg11.dtd\">\n",
       "<!-- Generated by graphviz version 2.43.0 (0)\n",
       " -->\n",
       "<!-- Title: %3 Pages: 1 -->\n",
       "<svg width=\"124pt\" height=\"172pt\"\n",
       " viewBox=\"0.00 0.00 123.97 171.95\" xmlns=\"http://www.w3.org/2000/svg\" xmlns:xlink=\"http://www.w3.org/1999/xlink\">\n",
       "<g id=\"graph0\" class=\"graph\" transform=\"scale(1 1) rotate(0) translate(4 167.95)\">\n",
       "<title>%3</title>\n",
       "<polygon fill=\"white\" stroke=\"transparent\" points=\"-4,4 -4,-167.95 119.97,-167.95 119.97,4 -4,4\"/>\n",
       "<!-- D -->\n",
       "<g id=\"node1\" class=\"node\">\n",
       "<title>D</title>\n",
       "<ellipse fill=\"none\" stroke=\"black\" cx=\"57.98\" cy=\"-37.48\" rx=\"57.97\" ry=\"37.45\"/>\n",
       "<text text-anchor=\"middle\" x=\"57.98\" y=\"-48.78\" font-family=\"Times,serif\" font-size=\"14.00\">D</text>\n",
       "<text text-anchor=\"middle\" x=\"57.98\" y=\"-33.78\" font-family=\"Times,serif\" font-size=\"14.00\">~</text>\n",
       "<text text-anchor=\"middle\" x=\"57.98\" y=\"-18.78\" font-family=\"Times,serif\" font-size=\"14.00\">Bernoulli</text>\n",
       "</g>\n",
       "<!-- BC -->\n",
       "<g id=\"node2\" class=\"node\">\n",
       "<title>BC</title>\n",
       "<path fill=\"lightgrey\" stroke=\"black\" d=\"M72.98,-163.95C72.98,-163.95 42.98,-163.95 42.98,-163.95 36.98,-163.95 30.98,-157.95 30.98,-151.95 30.98,-151.95 30.98,-122.95 30.98,-122.95 30.98,-116.95 36.98,-110.95 42.98,-110.95 42.98,-110.95 72.98,-110.95 72.98,-110.95 78.98,-110.95 84.98,-116.95 84.98,-122.95 84.98,-122.95 84.98,-151.95 84.98,-151.95 84.98,-157.95 78.98,-163.95 72.98,-163.95\"/>\n",
       "<text text-anchor=\"middle\" x=\"57.98\" y=\"-148.75\" font-family=\"Times,serif\" font-size=\"14.00\">BC</text>\n",
       "<text text-anchor=\"middle\" x=\"57.98\" y=\"-133.75\" font-family=\"Times,serif\" font-size=\"14.00\">~</text>\n",
       "<text text-anchor=\"middle\" x=\"57.98\" y=\"-118.75\" font-family=\"Times,serif\" font-size=\"14.00\">Data</text>\n",
       "</g>\n",
       "<!-- BC&#45;&gt;D -->\n",
       "<g id=\"edge1\" class=\"edge\">\n",
       "<title>BC&#45;&gt;D</title>\n",
       "<path fill=\"none\" stroke=\"black\" d=\"M57.98,-110.71C57.98,-102.89 57.98,-94.03 57.98,-85.27\"/>\n",
       "<polygon fill=\"black\" stroke=\"black\" points=\"61.48,-85.1 57.98,-75.1 54.48,-85.1 61.48,-85.1\"/>\n",
       "</g>\n",
       "</g>\n",
       "</svg>\n"
      ],
      "text/plain": [
       "<graphviz.graphs.Digraph at 0x7c29d5c58bf0>"
      ]
     },
     "execution_count": 42,
     "metadata": {},
     "output_type": "execute_result"
    }
   ],
   "source": [
    "from pymc.model.transform.conditioning import do\n",
    "do_BC0_model = do(dance_model, {'BC': 0})\n",
    "pm.model_to_graphviz(do_BC0_model)"
   ]
  },
  {
   "cell_type": "code",
   "execution_count": 43,
   "id": "841b2989-156a-4f3b-975f-1e865ecd5d40",
   "metadata": {
    "execution": {
     "iopub.execute_input": "2025-07-01T15:47:40.114903Z",
     "iopub.status.busy": "2025-07-01T15:47:40.114622Z",
     "iopub.status.idle": "2025-07-01T15:47:40.162392Z",
     "shell.execute_reply": "2025-07-01T15:47:40.161922Z",
     "shell.execute_reply.started": "2025-07-01T15:47:40.114884Z"
    }
   },
   "outputs": [
    {
     "name": "stderr",
     "output_type": "stream",
     "text": [
      "Sampling: [D]\n"
     ]
    },
    {
     "data": {
      "text/html": [
       "<div>\n",
       "<style scoped>\n",
       "    .dataframe tbody tr th:only-of-type {\n",
       "        vertical-align: middle;\n",
       "    }\n",
       "\n",
       "    .dataframe tbody tr th {\n",
       "        vertical-align: top;\n",
       "    }\n",
       "\n",
       "    .dataframe thead th {\n",
       "        text-align: right;\n",
       "    }\n",
       "</style>\n",
       "<table border=\"1\" class=\"dataframe\">\n",
       "  <thead>\n",
       "    <tr style=\"text-align: right;\">\n",
       "      <th></th>\n",
       "      <th></th>\n",
       "      <th>D</th>\n",
       "    </tr>\n",
       "    <tr>\n",
       "      <th>chain</th>\n",
       "      <th>draw</th>\n",
       "      <th></th>\n",
       "    </tr>\n",
       "  </thead>\n",
       "  <tbody>\n",
       "    <tr>\n",
       "      <th rowspan=\"11\" valign=\"top\">0</th>\n",
       "      <th>0</th>\n",
       "      <td>0</td>\n",
       "    </tr>\n",
       "    <tr>\n",
       "      <th>1</th>\n",
       "      <td>0</td>\n",
       "    </tr>\n",
       "    <tr>\n",
       "      <th>2</th>\n",
       "      <td>0</td>\n",
       "    </tr>\n",
       "    <tr>\n",
       "      <th>3</th>\n",
       "      <td>0</td>\n",
       "    </tr>\n",
       "    <tr>\n",
       "      <th>4</th>\n",
       "      <td>0</td>\n",
       "    </tr>\n",
       "    <tr>\n",
       "      <th>...</th>\n",
       "      <td>...</td>\n",
       "    </tr>\n",
       "    <tr>\n",
       "      <th>495</th>\n",
       "      <td>0</td>\n",
       "    </tr>\n",
       "    <tr>\n",
       "      <th>496</th>\n",
       "      <td>0</td>\n",
       "    </tr>\n",
       "    <tr>\n",
       "      <th>497</th>\n",
       "      <td>0</td>\n",
       "    </tr>\n",
       "    <tr>\n",
       "      <th>498</th>\n",
       "      <td>0</td>\n",
       "    </tr>\n",
       "    <tr>\n",
       "      <th>499</th>\n",
       "      <td>0</td>\n",
       "    </tr>\n",
       "  </tbody>\n",
       "</table>\n",
       "<p>500 rows × 1 columns</p>\n",
       "</div>"
      ],
      "text/plain": [
       "            D\n",
       "chain draw   \n",
       "0     0     0\n",
       "      1     0\n",
       "      2     0\n",
       "      3     0\n",
       "      4     0\n",
       "...        ..\n",
       "      495   0\n",
       "      496   0\n",
       "      497   0\n",
       "      498   0\n",
       "      499   0\n",
       "\n",
       "[500 rows x 1 columns]"
      ]
     },
     "execution_count": 43,
     "metadata": {},
     "output_type": "execute_result"
    }
   ],
   "source": [
    "with do_BC0_model:\n",
    "    BC0_idata = pm.sample_prior_predictive(random_seed=5650)\n",
    "BC0_idata_df = BC0_idata.prior.to_dataframe()\n",
    "BC0_idata_df"
   ]
  },
  {
   "cell_type": "code",
   "execution_count": 44,
   "id": "806736cb-04bd-401c-a692-ea1432295b1c",
   "metadata": {
    "execution": {
     "iopub.execute_input": "2025-07-01T15:47:53.929287Z",
     "iopub.status.busy": "2025-07-01T15:47:53.929029Z",
     "iopub.status.idle": "2025-07-01T15:47:53.933546Z",
     "shell.execute_reply": "2025-07-01T15:47:53.933053Z",
     "shell.execute_reply.started": "2025-07-01T15:47:53.929271Z"
    }
   },
   "outputs": [
    {
     "data": {
      "text/plain": [
       "0.0"
      ]
     },
     "execution_count": 44,
     "metadata": {},
     "output_type": "execute_result"
    }
   ],
   "source": [
    "BC0_idata_df['D'].mean()"
   ]
  },
  {
   "cell_type": "markdown",
   "id": "d2e42216-f236-41c3-8a86-0b3c7555c40d",
   "metadata": {},
   "source": [
    "And so we get our causal effect:\n",
    "\n",
    "$$\n",
    "\\mathbb{E}[D \\mid \\textsf{do}(BC \\leftarrow 1)] - \\mathbb{E}[D \\mid \\textsf{do}(BC \\leftarrow 0)] = 1 - 0 = 1\n",
    "$$"
   ]
  },
  {
   "cell_type": "markdown",
   "id": "8a2a843f-241c-42ad-aa38-d4b483d76a67",
   "metadata": {},
   "source": [
    "### $\\textsf{do}()$ vs. Conditional Probability in this Model"
   ]
  },
  {
   "cell_type": "markdown",
   "id": "89401d2e-babd-43e3-8954-ae875ceb47e6",
   "metadata": {},
   "source": [
    "Now, what would the **conditional probability** $\\Pr(D \\mid BC)$ give us here? Let's check using the `dance_prior_df` `DataFrame` we created earlier, but just subsetting it to check co-occurrences rather than using the fancy `do()` function in PyMC:"
   ]
  },
  {
   "cell_type": "code",
   "execution_count": 46,
   "id": "b3ffe8ab-689b-4928-82c3-44651657d017",
   "metadata": {
    "execution": {
     "iopub.execute_input": "2025-07-01T15:50:24.532911Z",
     "iopub.status.busy": "2025-07-01T15:50:24.532676Z",
     "iopub.status.idle": "2025-07-01T15:50:24.537733Z",
     "shell.execute_reply": "2025-07-01T15:50:24.537238Z",
     "shell.execute_reply.started": "2025-07-01T15:50:24.532894Z"
    }
   },
   "outputs": [
    {
     "data": {
      "text/plain": [
       "1.0"
      ]
     },
     "execution_count": 46,
     "metadata": {},
     "output_type": "execute_result"
    }
   ],
   "source": [
    "BC1_df = dance_prior_df[dance_prior_df['BC'] == 1].copy()\n",
    "BC1_df['D'].mean()"
   ]
  },
  {
   "cell_type": "code",
   "execution_count": 48,
   "id": "ae605b64-5550-4917-b64b-f84108d67a1f",
   "metadata": {
    "execution": {
     "iopub.execute_input": "2025-07-01T15:50:43.595246Z",
     "iopub.status.busy": "2025-07-01T15:50:43.594980Z",
     "iopub.status.idle": "2025-07-01T15:50:43.600195Z",
     "shell.execute_reply": "2025-07-01T15:50:43.599726Z",
     "shell.execute_reply.started": "2025-07-01T15:50:43.595229Z"
    }
   },
   "outputs": [
    {
     "data": {
      "text/plain": [
       "0.0"
      ]
     },
     "execution_count": 48,
     "metadata": {},
     "output_type": "execute_result"
    }
   ],
   "source": [
    "BC0_df = dance_prior_df[dance_prior_df['BC'] == 0].copy()\n",
    "BC0_df['D'].mean()"
   ]
  },
  {
   "cell_type": "markdown",
   "id": "a7f19db3-d09c-43a4-abfb-73789dab3537",
   "metadata": {},
   "source": [
    "And so we have, in this case, that\n",
    "\n",
    "$$\n",
    "\\mathbb{E}[D \\mid BC = 1] - \\mathbb{E}[D \\mid BC = 0] = 1 - 0 = 1,\n",
    "$$\n",
    "\n",
    "meaning that the causal effect is **equal to** the conditional effect:\n",
    "\n",
    "$$\n",
    "\\mathbb{E}[D \\mid \\textsf{do}(BC \\leftarrow 1)] - \\mathbb{E}[D \\mid \\textsf{do}(BC \\leftarrow 0)] = \\mathbb{E}[D \\mid BC = 1] - \\mathbb{E}[D \\mid BC = 0]\n",
    "$$"
   ]
  },
  {
   "cell_type": "markdown",
   "id": "458bcf84-ec7a-4426-9797-05351fe4305d",
   "metadata": {},
   "source": [
    "Why did we get this result in this case? If we tried to generalize from this (which lots of early scientists do), we might think it means that $\\textsf{do}()$ is unnecessary overkill -- it looks like we can just use the conditional operator $|$... But, in fact, the above equality only holds because **the model was so simple** that there were **no backdoor paths** which could **bias** the conditional probabilities **away from** the direct causal effect."
   ]
  },
  {
   "cell_type": "markdown",
   "id": "27cfd995-7651-4469-aafb-4c9ba26804bf",
   "metadata": {},
   "source": [
    "### The Relation to Backdoor Paths"
   ]
  },
  {
   "cell_type": "markdown",
   "id": "bced443f-20eb-4ce7-9a3d-638535d38f47",
   "metadata": {},
   "source": [
    "The Firing Squad example, however, is **not so simple**: on top of the direct path $A \\rightarrow D$, there is a **backdoor path** $A \\leftarrow C \\rightarrow B \\rightarrow D$, which has exactly the effect of making the $\\textsf{do}()$-based difference\n",
    "\n",
    "$$\n",
    "\\mathbb{E}[D = 1 \\mid \\textsf{do}(A \\leftarrow 1)] - \\mathbb{E}[D = 1 \\mid \\textsf{do}(A \\leftarrow 0)]\n",
    "$$\n",
    "\n",
    "**not equal to** the conditional difference\n",
    "\n",
    "$$\n",
    "\\mathbb{E}[D = 1 \\mid A = 1] - \\mathbb{E}[D = 1 \\mid A = 0].\n",
    "$$\n",
    "\n",
    "If we had enough data on $D$ with respect to the behavior of $A$ (for example, data on $A$ shooting and not-shooting in different Firing Squads) and $C$ (for example, cases where $C$ decided not to follow the court orders, and refused to order the shooting), then we know from class that we could in fact **infer the causal $\\textsf{do}()$-based effect from this observational data** by **closing the backdoor path**:\n",
    "\n",
    "Since $C$ is a **fork** in the triple $A \\leftarrow C \\rightarrow B$, the first triple in the backdoor path here, we know that we could compute $\\mathbb{E}[D = 1 \\mid A = 1] - \\mathbb{E}[D = 1 \\mid A = 0]$ separately for the two different values of $C$ ($C = 1$ and $C = 0$), and if our causal model was indeed the truth about the world then we would successfully obtain the $\\textsf{do}()$-based effect **without actually having to intervene in the system**! "
   ]
  },
  {
   "cell_type": "code",
   "execution_count": null,
   "id": "b77517d0-d02e-43e3-9b73-2283119afcea",
   "metadata": {},
   "outputs": [],
   "source": []
  }
 ],
 "metadata": {
  "kernelspec": {
   "display_name": "Python 3 (ipykernel)",
   "language": "python",
   "name": "python3"
  },
  "language_info": {
   "codemirror_mode": {
    "name": "ipython",
    "version": 3
   },
   "file_extension": ".py",
   "mimetype": "text/x-python",
   "name": "python",
   "nbconvert_exporter": "python",
   "pygments_lexer": "ipython3",
   "version": "3.12.6"
  },
  "widgets": {
   "application/vnd.jupyter.widget-state+json": {
    "state": {},
    "version_major": 2,
    "version_minor": 0
   }
  }
 },
 "nbformat": 4,
 "nbformat_minor": 5
}
